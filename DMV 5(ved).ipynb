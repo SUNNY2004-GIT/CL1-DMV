{
 "cells": [
  {
   "cell_type": "code",
   "execution_count": 10,
   "id": "774c5a4c",
   "metadata": {
    "id": "774c5a4c"
   },
   "outputs": [],
   "source": [
    "import numpy as np\n",
    "import pandas as pd\n",
    "import matplotlib.pyplot as plt\n",
    "import seaborn as sns\n",
    "from sklearn.impute import SimpleImputer\n",
    "%matplotlib inline"
   ]
  },
  {
   "cell_type": "code",
   "execution_count": 26,
   "id": "db25f7e3",
   "metadata": {
    "id": "db25f7e3"
   },
   "outputs": [],
   "source": [
    "sns.set(style=\"ticks\", rc = {'figure.figsize':(20,15)})\n",
    "import warnings\n",
    "warnings.filterwarnings('ignore')"
   ]
  },
  {
   "cell_type": "code",
   "execution_count": 27,
   "id": "44a2d3b7-3118-4aeb-be7c-c8f9bca08ccf",
   "metadata": {},
   "outputs": [],
   "source": [
    "aqi = pd.read_csv(\"C:\\\\Users\\\\gangu\\\\Desktop\\\\dmv\\\\CLI\\\\DMV\\\\data.csv\", encoding=\"ISO-8859-1\", parse_dates=['date'], low_memory=False)\n"
   ]
  },
  {
   "cell_type": "code",
   "execution_count": 28,
   "id": "09d65342",
   "metadata": {
    "id": "09d65342",
    "outputId": "1ca730b3-ab76-4ed9-ec9f-7bbc746c303f"
   },
   "outputs": [
    {
     "name": "stdout",
     "output_type": "stream",
     "text": [
      "stn_code                       144077\n",
      "sampling_date                       3\n",
      "state                               0\n",
      "location                            3\n",
      "agency                         149481\n",
      "type                             5393\n",
      "so2                             34646\n",
      "no2                             16233\n",
      "rspm                            40222\n",
      "spm                            237387\n",
      "location_monitoring_station     27491\n",
      "pm2_5                          426428\n",
      "date                                7\n",
      "dtype: int64\n",
      "(435742, 13)\n",
      "<class 'pandas.core.frame.DataFrame'>\n",
      "RangeIndex: 435742 entries, 0 to 435741\n",
      "Data columns (total 13 columns):\n",
      " #   Column                       Non-Null Count   Dtype         \n",
      "---  ------                       --------------   -----         \n",
      " 0   stn_code                     291665 non-null  object        \n",
      " 1   sampling_date                435739 non-null  object        \n",
      " 2   state                        435742 non-null  object        \n",
      " 3   location                     435739 non-null  object        \n",
      " 4   agency                       286261 non-null  object        \n",
      " 5   type                         430349 non-null  object        \n",
      " 6   so2                          401096 non-null  float64       \n",
      " 7   no2                          419509 non-null  float64       \n",
      " 8   rspm                         395520 non-null  float64       \n",
      " 9   spm                          198355 non-null  float64       \n",
      " 10  location_monitoring_station  408251 non-null  object        \n",
      " 11  pm2_5                        9314 non-null    float64       \n",
      " 12  date                         435735 non-null  datetime64[ns]\n",
      "dtypes: datetime64[ns](1), float64(5), object(7)\n",
      "memory usage: 43.2+ MB\n"
     ]
    }
   ],
   "source": [
    "print(aqi.isnull().sum())\n",
    "print(aqi.shape)\n",
    "aqi.info()"
   ]
  },
  {
   "cell_type": "code",
   "execution_count": 29,
   "id": "3ea07f33",
   "metadata": {
    "id": "3ea07f33"
   },
   "outputs": [],
   "source": [
    "aqi.drop(['stn_code', 'agency', 'sampling_date', 'location_monitoring_station'], axis=1, inplace=True) #dropping columns that aren't required\n",
    "aqi = aqi.dropna(subset=['date']) # dropping rows where no date is available\n",
    "aqi.state = aqi.state.replace({'Uttaranchal':'Uttarakhand'})\n",
    "aqi.state[aqi.location == \"Jamshedpur\"] = aqi.state[aqi.location == 'Jamshedpur'].replace({\"Bihar\":\"Jharkhand\"})\n",
    "types = {\n",
    "    \"Residential\": \"R\",\n",
    "    \"Residential and others\": \"RO\",\n",
    "    \"Residential, Rural and other Areas\": \"RRO\",\n",
    "    \"Industrial Area\": \"I\",\n",
    "    \"Industrial Areas\": \"I\",\n",
    "    \"Industrial\": \"I\",\n",
    "    \"Sensitive Area\": \"S\",\n",
    "    \"Sensitive Areas\": \"S\",\n",
    "    \"Sensitive\": \"S\",\n",
    "    np.nan: \"RRO\"\n",
    "}\n",
    "aqi.type = aqi.type.replace(types)"
   ]
  },
  {
   "cell_type": "code",
   "execution_count": 30,
   "id": "a70e6573",
   "metadata": {
    "id": "a70e6573",
    "outputId": "9bf93b58-e7b5-48b9-8e24-98f15d7582fb"
   },
   "outputs": [
    {
     "data": {
      "text/html": [
       "<div>\n",
       "<style scoped>\n",
       "    .dataframe tbody tr th:only-of-type {\n",
       "        vertical-align: middle;\n",
       "    }\n",
       "\n",
       "    .dataframe tbody tr th {\n",
       "        vertical-align: top;\n",
       "    }\n",
       "\n",
       "    .dataframe thead th {\n",
       "        text-align: right;\n",
       "    }\n",
       "</style>\n",
       "<table border=\"1\" class=\"dataframe\">\n",
       "  <thead>\n",
       "    <tr style=\"text-align: right;\">\n",
       "      <th></th>\n",
       "      <th>state</th>\n",
       "      <th>location</th>\n",
       "      <th>type</th>\n",
       "      <th>so2</th>\n",
       "      <th>no2</th>\n",
       "      <th>rspm</th>\n",
       "      <th>spm</th>\n",
       "      <th>pm2_5</th>\n",
       "      <th>date</th>\n",
       "    </tr>\n",
       "  </thead>\n",
       "  <tbody>\n",
       "    <tr>\n",
       "      <th>0</th>\n",
       "      <td>Andhra Pradesh</td>\n",
       "      <td>Hyderabad</td>\n",
       "      <td>RRO</td>\n",
       "      <td>4.8</td>\n",
       "      <td>17.4</td>\n",
       "      <td>NaN</td>\n",
       "      <td>NaN</td>\n",
       "      <td>NaN</td>\n",
       "      <td>1990-02-01</td>\n",
       "    </tr>\n",
       "    <tr>\n",
       "      <th>1</th>\n",
       "      <td>Andhra Pradesh</td>\n",
       "      <td>Hyderabad</td>\n",
       "      <td>I</td>\n",
       "      <td>3.1</td>\n",
       "      <td>7.0</td>\n",
       "      <td>NaN</td>\n",
       "      <td>NaN</td>\n",
       "      <td>NaN</td>\n",
       "      <td>1990-02-01</td>\n",
       "    </tr>\n",
       "    <tr>\n",
       "      <th>2</th>\n",
       "      <td>Andhra Pradesh</td>\n",
       "      <td>Hyderabad</td>\n",
       "      <td>RRO</td>\n",
       "      <td>6.2</td>\n",
       "      <td>28.5</td>\n",
       "      <td>NaN</td>\n",
       "      <td>NaN</td>\n",
       "      <td>NaN</td>\n",
       "      <td>1990-02-01</td>\n",
       "    </tr>\n",
       "    <tr>\n",
       "      <th>3</th>\n",
       "      <td>Andhra Pradesh</td>\n",
       "      <td>Hyderabad</td>\n",
       "      <td>RRO</td>\n",
       "      <td>6.3</td>\n",
       "      <td>14.7</td>\n",
       "      <td>NaN</td>\n",
       "      <td>NaN</td>\n",
       "      <td>NaN</td>\n",
       "      <td>1990-03-01</td>\n",
       "    </tr>\n",
       "    <tr>\n",
       "      <th>4</th>\n",
       "      <td>Andhra Pradesh</td>\n",
       "      <td>Hyderabad</td>\n",
       "      <td>I</td>\n",
       "      <td>4.7</td>\n",
       "      <td>7.5</td>\n",
       "      <td>NaN</td>\n",
       "      <td>NaN</td>\n",
       "      <td>NaN</td>\n",
       "      <td>1990-03-01</td>\n",
       "    </tr>\n",
       "  </tbody>\n",
       "</table>\n",
       "</div>"
      ],
      "text/plain": [
       "            state   location type  so2   no2  rspm  spm  pm2_5       date\n",
       "0  Andhra Pradesh  Hyderabad  RRO  4.8  17.4   NaN  NaN    NaN 1990-02-01\n",
       "1  Andhra Pradesh  Hyderabad    I  3.1   7.0   NaN  NaN    NaN 1990-02-01\n",
       "2  Andhra Pradesh  Hyderabad  RRO  6.2  28.5   NaN  NaN    NaN 1990-02-01\n",
       "3  Andhra Pradesh  Hyderabad  RRO  6.3  14.7   NaN  NaN    NaN 1990-03-01\n",
       "4  Andhra Pradesh  Hyderabad    I  4.7   7.5   NaN  NaN    NaN 1990-03-01"
      ]
     },
     "execution_count": 30,
     "metadata": {},
     "output_type": "execute_result"
    }
   ],
   "source": [
    "aqi.head()"
   ]
  },
  {
   "cell_type": "code",
   "execution_count": 31,
   "id": "8965c8b1",
   "metadata": {
    "id": "8965c8b1"
   },
   "outputs": [],
   "source": [
    "VALUE_COLS = ['so2', 'no2', 'rspm', 'spm', 'pm2_5']"
   ]
  },
  {
   "cell_type": "code",
   "execution_count": 32,
   "id": "4624d436",
   "metadata": {
    "id": "4624d436"
   },
   "outputs": [],
   "source": [
    "imputer = SimpleImputer(missing_values=np.nan, strategy='mean')\n",
    "aqi[VALUE_COLS] = imputer.fit_transform(aqi[VALUE_COLS])"
   ]
  },
  {
   "cell_type": "code",
   "execution_count": 33,
   "id": "78247078",
   "metadata": {
    "id": "78247078",
    "outputId": "dfb5bfcb-157b-4cf6-d3db-3c296297a83d"
   },
   "outputs": [
    {
     "name": "stdout",
     "output_type": "stream",
     "text": [
      "state       0\n",
      "location    0\n",
      "type        0\n",
      "so2         0\n",
      "no2         0\n",
      "rspm        0\n",
      "spm         0\n",
      "pm2_5       0\n",
      "date        0\n",
      "dtype: int64\n"
     ]
    },
    {
     "data": {
      "text/html": [
       "<div>\n",
       "<style scoped>\n",
       "    .dataframe tbody tr th:only-of-type {\n",
       "        vertical-align: middle;\n",
       "    }\n",
       "\n",
       "    .dataframe tbody tr th {\n",
       "        vertical-align: top;\n",
       "    }\n",
       "\n",
       "    .dataframe thead th {\n",
       "        text-align: right;\n",
       "    }\n",
       "</style>\n",
       "<table border=\"1\" class=\"dataframe\">\n",
       "  <thead>\n",
       "    <tr style=\"text-align: right;\">\n",
       "      <th></th>\n",
       "      <th>state</th>\n",
       "      <th>location</th>\n",
       "      <th>type</th>\n",
       "      <th>so2</th>\n",
       "      <th>no2</th>\n",
       "      <th>rspm</th>\n",
       "      <th>spm</th>\n",
       "      <th>pm2_5</th>\n",
       "      <th>date</th>\n",
       "    </tr>\n",
       "  </thead>\n",
       "  <tbody>\n",
       "    <tr>\n",
       "      <th>435734</th>\n",
       "      <td>West Bengal</td>\n",
       "      <td>ULUBERIA</td>\n",
       "      <td>RIRUO</td>\n",
       "      <td>20.0</td>\n",
       "      <td>44.0</td>\n",
       "      <td>148.0</td>\n",
       "      <td>220.78348</td>\n",
       "      <td>40.791467</td>\n",
       "      <td>2015-12-15</td>\n",
       "    </tr>\n",
       "    <tr>\n",
       "      <th>435735</th>\n",
       "      <td>West Bengal</td>\n",
       "      <td>ULUBERIA</td>\n",
       "      <td>RIRUO</td>\n",
       "      <td>17.0</td>\n",
       "      <td>44.0</td>\n",
       "      <td>131.0</td>\n",
       "      <td>220.78348</td>\n",
       "      <td>40.791467</td>\n",
       "      <td>2015-12-18</td>\n",
       "    </tr>\n",
       "    <tr>\n",
       "      <th>435736</th>\n",
       "      <td>West Bengal</td>\n",
       "      <td>ULUBERIA</td>\n",
       "      <td>RIRUO</td>\n",
       "      <td>18.0</td>\n",
       "      <td>45.0</td>\n",
       "      <td>140.0</td>\n",
       "      <td>220.78348</td>\n",
       "      <td>40.791467</td>\n",
       "      <td>2015-12-21</td>\n",
       "    </tr>\n",
       "    <tr>\n",
       "      <th>435737</th>\n",
       "      <td>West Bengal</td>\n",
       "      <td>ULUBERIA</td>\n",
       "      <td>RIRUO</td>\n",
       "      <td>22.0</td>\n",
       "      <td>50.0</td>\n",
       "      <td>143.0</td>\n",
       "      <td>220.78348</td>\n",
       "      <td>40.791467</td>\n",
       "      <td>2015-12-24</td>\n",
       "    </tr>\n",
       "    <tr>\n",
       "      <th>435738</th>\n",
       "      <td>West Bengal</td>\n",
       "      <td>ULUBERIA</td>\n",
       "      <td>RIRUO</td>\n",
       "      <td>20.0</td>\n",
       "      <td>46.0</td>\n",
       "      <td>171.0</td>\n",
       "      <td>220.78348</td>\n",
       "      <td>40.791467</td>\n",
       "      <td>2015-12-29</td>\n",
       "    </tr>\n",
       "  </tbody>\n",
       "</table>\n",
       "</div>"
      ],
      "text/plain": [
       "              state  location   type   so2   no2   rspm        spm      pm2_5  \\\n",
       "435734  West Bengal  ULUBERIA  RIRUO  20.0  44.0  148.0  220.78348  40.791467   \n",
       "435735  West Bengal  ULUBERIA  RIRUO  17.0  44.0  131.0  220.78348  40.791467   \n",
       "435736  West Bengal  ULUBERIA  RIRUO  18.0  45.0  140.0  220.78348  40.791467   \n",
       "435737  West Bengal  ULUBERIA  RIRUO  22.0  50.0  143.0  220.78348  40.791467   \n",
       "435738  West Bengal  ULUBERIA  RIRUO  20.0  46.0  171.0  220.78348  40.791467   \n",
       "\n",
       "             date  \n",
       "435734 2015-12-15  \n",
       "435735 2015-12-18  \n",
       "435736 2015-12-21  \n",
       "435737 2015-12-24  \n",
       "435738 2015-12-29  "
      ]
     },
     "execution_count": 33,
     "metadata": {},
     "output_type": "execute_result"
    }
   ],
   "source": [
    "print(aqi.isnull().sum())\n",
    "aqi.tail()"
   ]
  },
  {
   "cell_type": "code",
   "execution_count": 34,
   "id": "3c8664e8",
   "metadata": {
    "id": "3c8664e8"
   },
   "outputs": [],
   "source": [
    "def plot_for_state(state):\n",
    "    fig, ax = plt.subplots(2,2, figsize=(20,12))\n",
    "    fig.suptitle(state, size=20)\n",
    "    state = aqi[aqi.state == state]\n",
    "    state = state.reset_index().set_index('date')[VALUE_COLS].resample('Y').mean()\n",
    "    state.so2.plot(legend=True, ax=ax[0][0], title=\"so2\")\n",
    "    ax[0][0].set_ylabel(\"so2 (µg/m3)\")\n",
    "    ax[0][0].set_xlabel(\"Year\")\n",
    "    state.no2.plot(legend=True, ax=ax[0][1], title=\"no2\")\n",
    "    ax[0][1].set_ylabel(\"no2 (µg/m3)\")\n",
    "    ax[0][1].set_xlabel(\"Year\")\n",
    "    state.rspm.plot(legend=True, ax=ax[1][0], title=\"rspm\")\n",
    "    ax[1][0].set_ylabel(\"RSPM (PM10 µg/m3)\")\n",
    "    ax[1][0].set_xlabel(\"Year\")\n",
    "    state.spm.plot(legend=True, ax=ax[1][1], title=\"spm\")\n",
    "    ax[1][1].set_ylabel(\"SPM (PM10 µg/m3)\")\n",
    "    ax[1][1].set_xlabel(\"Year\")"
   ]
  },
  {
   "cell_type": "code",
   "execution_count": 35,
   "id": "3a5bf3b2",
   "metadata": {
    "id": "3a5bf3b2",
    "outputId": "647c04a3-2540-4a41-b896-c1bd87f383bc"
   },
   "outputs": [],
   "source": [
    "plot_for_state(\"Uttar Pradesh\")"
   ]
  },
  {
   "cell_type": "code",
   "execution_count": 36,
   "id": "b3945cdf",
   "metadata": {
    "id": "b3945cdf"
   },
   "outputs": [],
   "source": [
    "# defining a function to find and plot the top 10 and bottom 10 states for a given indicator (defaults to SO2)\n",
    "def top_and_bottom_10_states(indicator=\"so2\"):\n",
    "    fig, ax = plt.subplots(2,1, figsize=(20, 12))\n",
    "\n",
    "    ind = aqi[[indicator, 'state']].groupby('state', as_index=False).median().sort_values(by=indicator,ascending=False)\n",
    "    top10 = sns.barplot(x='state', y=indicator, data=ind[:10], ax=ax[0], color='red')\n",
    "    top10.set_title(\"Top 10 states by {} (1991-2016)\".format(indicator))\n",
    "    top10.set_ylabel(\"so2 (µg/m3)\")\n",
    "    top10.set_xlabel(\"State\")\n",
    "\n",
    "    bottom10 = sns.barplot(x='state', y=indicator, data=ind[-10:], ax=ax[1], color='green')\n",
    "    bottom10.set_title(\"Bottom 10 states by {} (1991-2016)\".format(indicator))\n",
    "    bottom10.set_ylabel(\"so2 (µg/m3)\")\n",
    "    bottom10.set_xlabel(\"State\")"
   ]
  },
  {
   "cell_type": "code",
   "execution_count": 37,
   "id": "c293d482",
   "metadata": {
    "id": "c293d482",
    "outputId": "f1110c92-8579-4205-c1ab-0859192de7c6"
   },
   "outputs": [],
   "source": [
    "top_and_bottom_10_states(\"so2\")\n",
    "top_and_bottom_10_states(\"no2\")"
   ]
  },
  {
   "cell_type": "markdown",
   "id": "2ad5b86b",
   "metadata": {
    "id": "2ad5b86b"
   },
   "source": [
    "Plotting for SO2, we can see that the top state is Uttarakhand, while the bottom state is Meghalaya.\n",
    "\n",
    "Plotting for NO2, we can see that the top state is West Bengal, while the bottom state is Mizoram."
   ]
  },
  {
   "cell_type": "markdown",
   "id": "7b7246cd",
   "metadata": {
    "id": "7b7246cd"
   },
   "source": [
    "# Plotting the highest ever recorded levels"
   ]
  },
  {
   "cell_type": "code",
   "execution_count": 40,
   "id": "f172324d",
   "metadata": {
    "id": "f172324d"
   },
   "outputs": [],
   "source": [
    "# defining a function to find the highest ever recorded levels for a given indicator (defaults to SO2) by state\n",
    "# sidenote: mostly outliers\n",
    "def highest_levels_recorded(indicator=\"so2\"):\n",
    "    plt.figure(figsize=(20,10))\n",
    "    ind = aqi[[indicator, 'location', 'state', 'date']].groupby('state', as_index=False).max()\n",
    "    highest = sns.barplot(x='state', y=indicator, data=ind)\n",
    "    highest.set_title(\"Highest ever {} levels recorded by state\".format(indicator))\n",
    "    plt.xticks(rotation=90)"
   ]
  },
  {
   "cell_type": "code",
   "execution_count": 41,
   "id": "45056b70",
   "metadata": {
    "id": "45056b70",
    "outputId": "573d2073-ad0a-4314-9427-bd4d2120538a"
   },
   "outputs": [],
   "source": [
    "highest_levels_recorded(\"no2\")\n",
    "highest_levels_recorded(\"rspm\")"
   ]
  },
  {
   "cell_type": "markdown",
   "id": "3b1b03c9",
   "metadata": {
    "id": "3b1b03c9"
   },
   "source": [
    "Plotting for NO2, we can see that Rajasthan recorded the highest ever NO2 level. Plotting for RSPM, we can see that Uttar Pradesh recorded the highest ever RSPM level."
   ]
  },
  {
   "cell_type": "markdown",
   "id": "31ca8c0e",
   "metadata": {
    "id": "31ca8c0e"
   },
   "source": [
    "# Plotting yearly trends"
   ]
  },
  {
   "cell_type": "code",
   "execution_count": 44,
   "id": "4c0a6baa",
   "metadata": {
    "id": "4c0a6baa"
   },
   "outputs": [],
   "source": [
    "# defining a function to plot the yearly trend values for a given indicator (defaults to SO2) and state (defaults to overall)\n",
    "def yearly_trend(state=\"\", indicator=\"so2\", ):\n",
    "    plt.figure(figsize=(20,12))\n",
    "    aqi['year'] = aqi.date.dt.year\n",
    "    if state is \"\":\n",
    "        year_wise = aqi[[indicator, 'year', 'state']].groupby('year', as_index=False).median()\n",
    "        trend = sns.pointplot(x='year', y=indicator, data=year_wise)\n",
    "        trend.set_title('Yearly trend of {}'.format(indicator))\n",
    "    else:\n",
    "        year_wise = aqi[[indicator, 'year', 'state']].groupby(['state','year']).median().loc[state].reset_index()\n",
    "        trend = sns.pointplot(x='year', y=indicator, data=year_wise)\n",
    "        trend.set_title('Yearly trend of {} for {}'.format(indicator, state))"
   ]
  },
  {
   "cell_type": "code",
   "execution_count": 45,
   "id": "a0323c87",
   "metadata": {
    "id": "a0323c87",
    "outputId": "f8498142-fae1-4115-925a-f9570385ee02"
   },
   "outputs": [
    {
     "ename": "TypeError",
     "evalue": "agg function failed [how->median,dtype->object]",
     "output_type": "error",
     "traceback": [
      "\u001b[1;31m---------------------------------------------------------------------------\u001b[0m",
      "\u001b[1;31mTypeError\u001b[0m                                 Traceback (most recent call last)",
      "File \u001b[1;32m~\\anaconda3\\Lib\\site-packages\\pandas\\core\\groupby\\groupby.py:1942\u001b[0m, in \u001b[0;36mGroupBy._agg_py_fallback\u001b[1;34m(self, how, values, ndim, alt)\u001b[0m\n\u001b[0;32m   1941\u001b[0m \u001b[38;5;28;01mtry\u001b[39;00m:\n\u001b[1;32m-> 1942\u001b[0m     res_values \u001b[38;5;241m=\u001b[39m \u001b[38;5;28mself\u001b[39m\u001b[38;5;241m.\u001b[39m_grouper\u001b[38;5;241m.\u001b[39magg_series(ser, alt, preserve_dtype\u001b[38;5;241m=\u001b[39m\u001b[38;5;28;01mTrue\u001b[39;00m)\n\u001b[0;32m   1943\u001b[0m \u001b[38;5;28;01mexcept\u001b[39;00m \u001b[38;5;167;01mException\u001b[39;00m \u001b[38;5;28;01mas\u001b[39;00m err:\n",
      "File \u001b[1;32m~\\anaconda3\\Lib\\site-packages\\pandas\\core\\groupby\\ops.py:864\u001b[0m, in \u001b[0;36mBaseGrouper.agg_series\u001b[1;34m(self, obj, func, preserve_dtype)\u001b[0m\n\u001b[0;32m    862\u001b[0m     preserve_dtype \u001b[38;5;241m=\u001b[39m \u001b[38;5;28;01mTrue\u001b[39;00m\n\u001b[1;32m--> 864\u001b[0m result \u001b[38;5;241m=\u001b[39m \u001b[38;5;28mself\u001b[39m\u001b[38;5;241m.\u001b[39m_aggregate_series_pure_python(obj, func)\n\u001b[0;32m    866\u001b[0m npvalues \u001b[38;5;241m=\u001b[39m lib\u001b[38;5;241m.\u001b[39mmaybe_convert_objects(result, try_float\u001b[38;5;241m=\u001b[39m\u001b[38;5;28;01mFalse\u001b[39;00m)\n",
      "File \u001b[1;32m~\\anaconda3\\Lib\\site-packages\\pandas\\core\\groupby\\ops.py:885\u001b[0m, in \u001b[0;36mBaseGrouper._aggregate_series_pure_python\u001b[1;34m(self, obj, func)\u001b[0m\n\u001b[0;32m    884\u001b[0m \u001b[38;5;28;01mfor\u001b[39;00m i, group \u001b[38;5;129;01min\u001b[39;00m \u001b[38;5;28menumerate\u001b[39m(splitter):\n\u001b[1;32m--> 885\u001b[0m     res \u001b[38;5;241m=\u001b[39m func(group)\n\u001b[0;32m    886\u001b[0m     res \u001b[38;5;241m=\u001b[39m extract_result(res)\n",
      "File \u001b[1;32m~\\anaconda3\\Lib\\site-packages\\pandas\\core\\groupby\\groupby.py:2534\u001b[0m, in \u001b[0;36mGroupBy.median.<locals>.<lambda>\u001b[1;34m(x)\u001b[0m\n\u001b[0;32m   2461\u001b[0m \u001b[38;5;250m\u001b[39m\u001b[38;5;124;03m\"\"\"\u001b[39;00m\n\u001b[0;32m   2462\u001b[0m \u001b[38;5;124;03mCompute median of groups, excluding missing values.\u001b[39;00m\n\u001b[0;32m   2463\u001b[0m \n\u001b[1;32m   (...)\u001b[0m\n\u001b[0;32m   2530\u001b[0m \u001b[38;5;124;03mFreq: MS, dtype: float64\u001b[39;00m\n\u001b[0;32m   2531\u001b[0m \u001b[38;5;124;03m\"\"\"\u001b[39;00m\n\u001b[0;32m   2532\u001b[0m result \u001b[38;5;241m=\u001b[39m \u001b[38;5;28mself\u001b[39m\u001b[38;5;241m.\u001b[39m_cython_agg_general(\n\u001b[0;32m   2533\u001b[0m     \u001b[38;5;124m\"\u001b[39m\u001b[38;5;124mmedian\u001b[39m\u001b[38;5;124m\"\u001b[39m,\n\u001b[1;32m-> 2534\u001b[0m     alt\u001b[38;5;241m=\u001b[39m\u001b[38;5;28;01mlambda\u001b[39;00m x: Series(x, copy\u001b[38;5;241m=\u001b[39m\u001b[38;5;28;01mFalse\u001b[39;00m)\u001b[38;5;241m.\u001b[39mmedian(numeric_only\u001b[38;5;241m=\u001b[39mnumeric_only),\n\u001b[0;32m   2535\u001b[0m     numeric_only\u001b[38;5;241m=\u001b[39mnumeric_only,\n\u001b[0;32m   2536\u001b[0m )\n\u001b[0;32m   2537\u001b[0m \u001b[38;5;28;01mreturn\u001b[39;00m result\u001b[38;5;241m.\u001b[39m__finalize__(\u001b[38;5;28mself\u001b[39m\u001b[38;5;241m.\u001b[39mobj, method\u001b[38;5;241m=\u001b[39m\u001b[38;5;124m\"\u001b[39m\u001b[38;5;124mgroupby\u001b[39m\u001b[38;5;124m\"\u001b[39m)\n",
      "File \u001b[1;32m~\\anaconda3\\Lib\\site-packages\\pandas\\core\\series.py:6559\u001b[0m, in \u001b[0;36mSeries.median\u001b[1;34m(self, axis, skipna, numeric_only, **kwargs)\u001b[0m\n\u001b[0;32m   6551\u001b[0m \u001b[38;5;129m@doc\u001b[39m(make_doc(\u001b[38;5;124m\"\u001b[39m\u001b[38;5;124mmedian\u001b[39m\u001b[38;5;124m\"\u001b[39m, ndim\u001b[38;5;241m=\u001b[39m\u001b[38;5;241m1\u001b[39m))\n\u001b[0;32m   6552\u001b[0m \u001b[38;5;28;01mdef\u001b[39;00m \u001b[38;5;21mmedian\u001b[39m(\n\u001b[0;32m   6553\u001b[0m     \u001b[38;5;28mself\u001b[39m,\n\u001b[1;32m   (...)\u001b[0m\n\u001b[0;32m   6557\u001b[0m     \u001b[38;5;241m*\u001b[39m\u001b[38;5;241m*\u001b[39mkwargs,\n\u001b[0;32m   6558\u001b[0m ):\n\u001b[1;32m-> 6559\u001b[0m     \u001b[38;5;28;01mreturn\u001b[39;00m NDFrame\u001b[38;5;241m.\u001b[39mmedian(\u001b[38;5;28mself\u001b[39m, axis, skipna, numeric_only, \u001b[38;5;241m*\u001b[39m\u001b[38;5;241m*\u001b[39mkwargs)\n",
      "File \u001b[1;32m~\\anaconda3\\Lib\\site-packages\\pandas\\core\\generic.py:12431\u001b[0m, in \u001b[0;36mNDFrame.median\u001b[1;34m(self, axis, skipna, numeric_only, **kwargs)\u001b[0m\n\u001b[0;32m  12424\u001b[0m \u001b[38;5;28;01mdef\u001b[39;00m \u001b[38;5;21mmedian\u001b[39m(\n\u001b[0;32m  12425\u001b[0m     \u001b[38;5;28mself\u001b[39m,\n\u001b[0;32m  12426\u001b[0m     axis: Axis \u001b[38;5;241m|\u001b[39m \u001b[38;5;28;01mNone\u001b[39;00m \u001b[38;5;241m=\u001b[39m \u001b[38;5;241m0\u001b[39m,\n\u001b[1;32m   (...)\u001b[0m\n\u001b[0;32m  12429\u001b[0m     \u001b[38;5;241m*\u001b[39m\u001b[38;5;241m*\u001b[39mkwargs,\n\u001b[0;32m  12430\u001b[0m ) \u001b[38;5;241m-\u001b[39m\u001b[38;5;241m>\u001b[39m Series \u001b[38;5;241m|\u001b[39m \u001b[38;5;28mfloat\u001b[39m:\n\u001b[1;32m> 12431\u001b[0m     \u001b[38;5;28;01mreturn\u001b[39;00m \u001b[38;5;28mself\u001b[39m\u001b[38;5;241m.\u001b[39m_stat_function(\n\u001b[0;32m  12432\u001b[0m         \u001b[38;5;124m\"\u001b[39m\u001b[38;5;124mmedian\u001b[39m\u001b[38;5;124m\"\u001b[39m, nanops\u001b[38;5;241m.\u001b[39mnanmedian, axis, skipna, numeric_only, \u001b[38;5;241m*\u001b[39m\u001b[38;5;241m*\u001b[39mkwargs\n\u001b[0;32m  12433\u001b[0m     )\n",
      "File \u001b[1;32m~\\anaconda3\\Lib\\site-packages\\pandas\\core\\generic.py:12377\u001b[0m, in \u001b[0;36mNDFrame._stat_function\u001b[1;34m(self, name, func, axis, skipna, numeric_only, **kwargs)\u001b[0m\n\u001b[0;32m  12375\u001b[0m validate_bool_kwarg(skipna, \u001b[38;5;124m\"\u001b[39m\u001b[38;5;124mskipna\u001b[39m\u001b[38;5;124m\"\u001b[39m, none_allowed\u001b[38;5;241m=\u001b[39m\u001b[38;5;28;01mFalse\u001b[39;00m)\n\u001b[1;32m> 12377\u001b[0m \u001b[38;5;28;01mreturn\u001b[39;00m \u001b[38;5;28mself\u001b[39m\u001b[38;5;241m.\u001b[39m_reduce(\n\u001b[0;32m  12378\u001b[0m     func, name\u001b[38;5;241m=\u001b[39mname, axis\u001b[38;5;241m=\u001b[39maxis, skipna\u001b[38;5;241m=\u001b[39mskipna, numeric_only\u001b[38;5;241m=\u001b[39mnumeric_only\n\u001b[0;32m  12379\u001b[0m )\n",
      "File \u001b[1;32m~\\anaconda3\\Lib\\site-packages\\pandas\\core\\series.py:6457\u001b[0m, in \u001b[0;36mSeries._reduce\u001b[1;34m(self, op, name, axis, skipna, numeric_only, filter_type, **kwds)\u001b[0m\n\u001b[0;32m   6453\u001b[0m     \u001b[38;5;28;01mraise\u001b[39;00m \u001b[38;5;167;01mTypeError\u001b[39;00m(\n\u001b[0;32m   6454\u001b[0m         \u001b[38;5;124mf\u001b[39m\u001b[38;5;124m\"\u001b[39m\u001b[38;5;124mSeries.\u001b[39m\u001b[38;5;132;01m{\u001b[39;00mname\u001b[38;5;132;01m}\u001b[39;00m\u001b[38;5;124m does not allow \u001b[39m\u001b[38;5;132;01m{\u001b[39;00mkwd_name\u001b[38;5;132;01m}\u001b[39;00m\u001b[38;5;124m=\u001b[39m\u001b[38;5;132;01m{\u001b[39;00mnumeric_only\u001b[38;5;132;01m}\u001b[39;00m\u001b[38;5;124m \u001b[39m\u001b[38;5;124m\"\u001b[39m\n\u001b[0;32m   6455\u001b[0m         \u001b[38;5;124m\"\u001b[39m\u001b[38;5;124mwith non-numeric dtypes.\u001b[39m\u001b[38;5;124m\"\u001b[39m\n\u001b[0;32m   6456\u001b[0m     )\n\u001b[1;32m-> 6457\u001b[0m \u001b[38;5;28;01mreturn\u001b[39;00m op(delegate, skipna\u001b[38;5;241m=\u001b[39mskipna, \u001b[38;5;241m*\u001b[39m\u001b[38;5;241m*\u001b[39mkwds)\n",
      "File \u001b[1;32m~\\anaconda3\\Lib\\site-packages\\pandas\\core\\nanops.py:147\u001b[0m, in \u001b[0;36mbottleneck_switch.__call__.<locals>.f\u001b[1;34m(values, axis, skipna, **kwds)\u001b[0m\n\u001b[0;32m    146\u001b[0m \u001b[38;5;28;01melse\u001b[39;00m:\n\u001b[1;32m--> 147\u001b[0m     result \u001b[38;5;241m=\u001b[39m alt(values, axis\u001b[38;5;241m=\u001b[39maxis, skipna\u001b[38;5;241m=\u001b[39mskipna, \u001b[38;5;241m*\u001b[39m\u001b[38;5;241m*\u001b[39mkwds)\n\u001b[0;32m    149\u001b[0m \u001b[38;5;28;01mreturn\u001b[39;00m result\n",
      "File \u001b[1;32m~\\anaconda3\\Lib\\site-packages\\pandas\\core\\nanops.py:787\u001b[0m, in \u001b[0;36mnanmedian\u001b[1;34m(values, axis, skipna, mask)\u001b[0m\n\u001b[0;32m    786\u001b[0m     \u001b[38;5;28;01mif\u001b[39;00m inferred \u001b[38;5;129;01min\u001b[39;00m [\u001b[38;5;124m\"\u001b[39m\u001b[38;5;124mstring\u001b[39m\u001b[38;5;124m\"\u001b[39m, \u001b[38;5;124m\"\u001b[39m\u001b[38;5;124mmixed\u001b[39m\u001b[38;5;124m\"\u001b[39m]:\n\u001b[1;32m--> 787\u001b[0m         \u001b[38;5;28;01mraise\u001b[39;00m \u001b[38;5;167;01mTypeError\u001b[39;00m(\u001b[38;5;124mf\u001b[39m\u001b[38;5;124m\"\u001b[39m\u001b[38;5;124mCannot convert \u001b[39m\u001b[38;5;132;01m{\u001b[39;00mvalues\u001b[38;5;132;01m}\u001b[39;00m\u001b[38;5;124m to numeric\u001b[39m\u001b[38;5;124m\"\u001b[39m)\n\u001b[0;32m    788\u001b[0m \u001b[38;5;28;01mtry\u001b[39;00m:\n",
      "\u001b[1;31mTypeError\u001b[0m: Cannot convert ['Bihar' 'Bihar' 'Bihar' 'Bihar' 'Bihar' 'Bihar' 'Bihar' 'Bihar' 'Bihar'\n 'Bihar' 'Bihar' 'Bihar' 'Bihar' 'Bihar' 'Bihar' 'Bihar' 'Bihar' 'Bihar'\n 'Delhi' 'Delhi' 'Delhi' 'Delhi' 'Delhi' 'Delhi' 'Delhi' 'Delhi' 'Delhi'\n 'Delhi' 'Delhi' 'Delhi' 'Delhi' 'Delhi' 'Delhi' 'Delhi' 'Delhi' 'Delhi'\n 'Delhi' 'Delhi' 'Delhi' 'Delhi' 'Delhi' 'Delhi' 'Goa' 'Goa' 'Goa' 'Goa'\n 'Goa' 'Goa' 'Goa' 'Goa' 'Goa' 'Goa' 'Goa' 'Goa' 'Goa' 'Goa' 'Goa' 'Goa'\n 'Goa' 'Goa' 'Gujarat' 'Gujarat' 'Gujarat' 'Gujarat' 'Gujarat' 'Gujarat'\n 'Gujarat' 'Gujarat' 'Gujarat' 'Gujarat' 'Gujarat' 'Gujarat' 'Gujarat'\n 'Gujarat' 'Gujarat' 'Gujarat' 'Gujarat' 'Gujarat' 'Gujarat' 'Gujarat'\n 'Gujarat' 'Gujarat' 'Gujarat' 'Gujarat' 'Gujarat' 'Gujarat' 'Gujarat'\n 'Gujarat' 'Gujarat' 'Gujarat' 'Gujarat' 'Gujarat' 'Gujarat' 'Gujarat'\n 'Gujarat' 'Gujarat' 'Gujarat' 'Gujarat' 'Gujarat' 'Gujarat' 'Gujarat'\n 'Gujarat' 'Gujarat' 'Gujarat' 'Gujarat' 'Gujarat' 'Gujarat' 'Gujarat'\n 'Gujarat' 'Gujarat' 'Gujarat' 'Gujarat' 'Gujarat' 'Gujarat' 'Gujarat'\n 'Gujarat' 'Gujarat' 'Gujarat' 'Gujarat' 'Gujarat' 'Gujarat' 'Gujarat'\n 'Gujarat' 'Gujarat' 'Gujarat' 'Gujarat' 'Gujarat' 'Gujarat' 'Gujarat'\n 'Gujarat' 'Gujarat' 'Haryana' 'Haryana' 'Haryana' 'Haryana' 'Haryana'\n 'Haryana' 'Haryana' 'Haryana' 'Haryana' 'Haryana' 'Haryana'\n 'Himachal Pradesh' 'Himachal Pradesh' 'Himachal Pradesh'\n 'Himachal Pradesh' 'Himachal Pradesh' 'Himachal Pradesh'\n 'Himachal Pradesh' 'Himachal Pradesh' 'Karnataka' 'Karnataka' 'Karnataka'\n 'Karnataka' 'Karnataka' 'Karnataka' 'Karnataka' 'Karnataka' 'Karnataka'\n 'Karnataka' 'Karnataka' 'Karnataka' 'Karnataka' 'Karnataka' 'Karnataka'\n 'Karnataka' 'Karnataka' 'Karnataka' 'Karnataka' 'Karnataka' 'Karnataka'\n 'Karnataka' 'Karnataka' 'Karnataka' 'Karnataka' 'Karnataka' 'Karnataka'\n 'Karnataka' 'Kerala' 'Maharashtra' 'Maharashtra' 'Maharashtra'\n 'Maharashtra' 'Maharashtra' 'Maharashtra' 'Maharashtra' 'Maharashtra'\n 'Maharashtra' 'Odisha' 'Odisha' 'Odisha' 'Punjab' 'Punjab' 'Punjab'\n 'Punjab' 'Punjab' 'Punjab' 'Punjab' 'Punjab' 'Punjab' 'Punjab' 'Punjab'\n 'Punjab' 'Punjab' 'Punjab' 'Punjab' 'Punjab' 'Punjab' 'Punjab' 'Punjab'\n 'Punjab' 'Punjab' 'Punjab' 'Punjab' 'Punjab' 'Punjab' 'Punjab' 'Punjab'\n 'Punjab' 'Punjab' 'Rajasthan' 'Rajasthan' 'Rajasthan' 'Rajasthan'\n 'Rajasthan' 'Rajasthan' 'Rajasthan' 'Rajasthan' 'Rajasthan' 'Rajasthan'\n 'Rajasthan' 'Rajasthan' 'Rajasthan' 'Rajasthan' 'Rajasthan' 'Rajasthan'\n 'Rajasthan' 'Rajasthan' 'Rajasthan' 'Rajasthan' 'Rajasthan' 'Rajasthan'\n 'Rajasthan' 'Rajasthan' 'Rajasthan' 'Rajasthan' 'Rajasthan' 'Rajasthan'\n 'Rajasthan' 'Rajasthan' 'Rajasthan' 'Rajasthan' 'Rajasthan' 'Rajasthan'\n 'Rajasthan' 'Rajasthan' 'Rajasthan' 'Rajasthan' 'Rajasthan' 'Rajasthan'\n 'Rajasthan' 'Rajasthan' 'Rajasthan' 'Rajasthan' 'Rajasthan' 'Rajasthan'\n 'Rajasthan' 'Rajasthan' 'Rajasthan' 'Rajasthan' 'Rajasthan' 'Tamil Nadu'\n 'Tamil Nadu' 'Tamil Nadu' 'Tamil Nadu' 'Tamil Nadu' 'Tamil Nadu'\n 'Tamil Nadu' 'Tamil Nadu' 'Tamil Nadu' 'Tamil Nadu' 'Tamil Nadu'\n 'Tamil Nadu' 'Tamil Nadu' 'Tamil Nadu' 'Tamil Nadu' 'Tamil Nadu'\n 'Tamil Nadu' 'Tamil Nadu' 'Uttar Pradesh' 'Uttar Pradesh' 'Uttar Pradesh'\n 'Uttar Pradesh' 'Uttar Pradesh' 'Uttar Pradesh' 'Uttar Pradesh'\n 'Uttar Pradesh' 'Uttar Pradesh' 'Uttar Pradesh' 'Uttar Pradesh'\n 'Uttar Pradesh' 'Uttar Pradesh' 'Uttar Pradesh' 'Uttar Pradesh'\n 'Uttar Pradesh' 'Uttar Pradesh' 'Uttar Pradesh' 'Uttar Pradesh'\n 'Uttar Pradesh' 'Uttar Pradesh' 'Uttar Pradesh' 'Uttar Pradesh'\n 'Uttar Pradesh' 'Uttar Pradesh' 'Uttar Pradesh' 'Uttar Pradesh'\n 'Uttar Pradesh' 'Uttar Pradesh' 'Uttar Pradesh' 'Uttar Pradesh'\n 'Uttar Pradesh' 'Uttar Pradesh' 'Uttar Pradesh' 'Uttar Pradesh'\n 'Uttar Pradesh' 'Uttar Pradesh' 'Uttar Pradesh' 'Uttar Pradesh'\n 'Uttar Pradesh' 'Uttar Pradesh' 'Uttar Pradesh' 'Uttar Pradesh'\n 'Uttar Pradesh' 'Uttar Pradesh' 'Uttar Pradesh' 'Uttar Pradesh'\n 'Uttar Pradesh' 'Uttar Pradesh' 'Uttar Pradesh' 'Uttar Pradesh'\n 'Uttar Pradesh' 'Uttar Pradesh' 'Uttar Pradesh' 'Uttar Pradesh'\n 'Uttar Pradesh' 'Uttar Pradesh' 'Uttar Pradesh' 'Uttar Pradesh'\n 'West Bengal' 'West Bengal' 'West Bengal' 'West Bengal' 'West Bengal'\n 'West Bengal' 'West Bengal' 'West Bengal' 'West Bengal' 'West Bengal'\n 'West Bengal' 'West Bengal' 'West Bengal' 'West Bengal' 'West Bengal'\n 'West Bengal' 'West Bengal' 'West Bengal' 'West Bengal' 'West Bengal'\n 'West Bengal' 'West Bengal' 'West Bengal' 'West Bengal' 'West Bengal'\n 'West Bengal' 'West Bengal' 'West Bengal' 'West Bengal' 'West Bengal'\n 'West Bengal' 'West Bengal' 'West Bengal' 'West Bengal' 'West Bengal'\n 'West Bengal' 'West Bengal' 'West Bengal' 'West Bengal' 'West Bengal'\n 'West Bengal' 'West Bengal' 'West Bengal' 'West Bengal' 'West Bengal'\n 'West Bengal' 'West Bengal' 'West Bengal' 'West Bengal' 'West Bengal'\n 'West Bengal' 'West Bengal' 'West Bengal' 'West Bengal' 'West Bengal'\n 'West Bengal' 'West Bengal' 'West Bengal' 'West Bengal' 'West Bengal'\n 'West Bengal' 'West Bengal' 'West Bengal' 'West Bengal' 'West Bengal'\n 'West Bengal' 'West Bengal' 'West Bengal' 'West Bengal' 'West Bengal'\n 'West Bengal' 'West Bengal' 'West Bengal' 'West Bengal' 'West Bengal'\n 'West Bengal' 'West Bengal' 'West Bengal' 'West Bengal' 'West Bengal'] to numeric",
      "\nThe above exception was the direct cause of the following exception:\n",
      "\u001b[1;31mTypeError\u001b[0m                                 Traceback (most recent call last)",
      "Cell \u001b[1;32mIn[45], line 1\u001b[0m\n\u001b[1;32m----> 1\u001b[0m yearly_trend()\n\u001b[0;32m      2\u001b[0m yearly_trend(\u001b[38;5;124m\"\u001b[39m\u001b[38;5;124mWest Bengal\u001b[39m\u001b[38;5;124m\"\u001b[39m, \u001b[38;5;124m\"\u001b[39m\u001b[38;5;124mno2\u001b[39m\u001b[38;5;124m\"\u001b[39m)\n",
      "Cell \u001b[1;32mIn[44], line 6\u001b[0m, in \u001b[0;36myearly_trend\u001b[1;34m(state, indicator)\u001b[0m\n\u001b[0;32m      4\u001b[0m aqi[\u001b[38;5;124m'\u001b[39m\u001b[38;5;124myear\u001b[39m\u001b[38;5;124m'\u001b[39m] \u001b[38;5;241m=\u001b[39m aqi\u001b[38;5;241m.\u001b[39mdate\u001b[38;5;241m.\u001b[39mdt\u001b[38;5;241m.\u001b[39myear\n\u001b[0;32m      5\u001b[0m \u001b[38;5;28;01mif\u001b[39;00m state \u001b[38;5;129;01mis\u001b[39;00m \u001b[38;5;124m\"\u001b[39m\u001b[38;5;124m\"\u001b[39m:\n\u001b[1;32m----> 6\u001b[0m     year_wise \u001b[38;5;241m=\u001b[39m aqi[[indicator, \u001b[38;5;124m'\u001b[39m\u001b[38;5;124myear\u001b[39m\u001b[38;5;124m'\u001b[39m, \u001b[38;5;124m'\u001b[39m\u001b[38;5;124mstate\u001b[39m\u001b[38;5;124m'\u001b[39m]]\u001b[38;5;241m.\u001b[39mgroupby(\u001b[38;5;124m'\u001b[39m\u001b[38;5;124myear\u001b[39m\u001b[38;5;124m'\u001b[39m, as_index\u001b[38;5;241m=\u001b[39m\u001b[38;5;28;01mFalse\u001b[39;00m)\u001b[38;5;241m.\u001b[39mmedian()\n\u001b[0;32m      7\u001b[0m     trend \u001b[38;5;241m=\u001b[39m sns\u001b[38;5;241m.\u001b[39mpointplot(x\u001b[38;5;241m=\u001b[39m\u001b[38;5;124m'\u001b[39m\u001b[38;5;124myear\u001b[39m\u001b[38;5;124m'\u001b[39m, y\u001b[38;5;241m=\u001b[39mindicator, data\u001b[38;5;241m=\u001b[39myear_wise)\n\u001b[0;32m      8\u001b[0m     trend\u001b[38;5;241m.\u001b[39mset_title(\u001b[38;5;124m'\u001b[39m\u001b[38;5;124mYearly trend of \u001b[39m\u001b[38;5;132;01m{}\u001b[39;00m\u001b[38;5;124m'\u001b[39m\u001b[38;5;241m.\u001b[39mformat(indicator))\n",
      "File \u001b[1;32m~\\anaconda3\\Lib\\site-packages\\pandas\\core\\groupby\\groupby.py:2532\u001b[0m, in \u001b[0;36mGroupBy.median\u001b[1;34m(self, numeric_only)\u001b[0m\n\u001b[0;32m   2459\u001b[0m \u001b[38;5;129m@final\u001b[39m\n\u001b[0;32m   2460\u001b[0m \u001b[38;5;28;01mdef\u001b[39;00m \u001b[38;5;21mmedian\u001b[39m(\u001b[38;5;28mself\u001b[39m, numeric_only: \u001b[38;5;28mbool\u001b[39m \u001b[38;5;241m=\u001b[39m \u001b[38;5;28;01mFalse\u001b[39;00m) \u001b[38;5;241m-\u001b[39m\u001b[38;5;241m>\u001b[39m NDFrameT:\n\u001b[0;32m   2461\u001b[0m \u001b[38;5;250m    \u001b[39m\u001b[38;5;124;03m\"\"\"\u001b[39;00m\n\u001b[0;32m   2462\u001b[0m \u001b[38;5;124;03m    Compute median of groups, excluding missing values.\u001b[39;00m\n\u001b[0;32m   2463\u001b[0m \n\u001b[1;32m   (...)\u001b[0m\n\u001b[0;32m   2530\u001b[0m \u001b[38;5;124;03m    Freq: MS, dtype: float64\u001b[39;00m\n\u001b[0;32m   2531\u001b[0m \u001b[38;5;124;03m    \"\"\"\u001b[39;00m\n\u001b[1;32m-> 2532\u001b[0m     result \u001b[38;5;241m=\u001b[39m \u001b[38;5;28mself\u001b[39m\u001b[38;5;241m.\u001b[39m_cython_agg_general(\n\u001b[0;32m   2533\u001b[0m         \u001b[38;5;124m\"\u001b[39m\u001b[38;5;124mmedian\u001b[39m\u001b[38;5;124m\"\u001b[39m,\n\u001b[0;32m   2534\u001b[0m         alt\u001b[38;5;241m=\u001b[39m\u001b[38;5;28;01mlambda\u001b[39;00m x: Series(x, copy\u001b[38;5;241m=\u001b[39m\u001b[38;5;28;01mFalse\u001b[39;00m)\u001b[38;5;241m.\u001b[39mmedian(numeric_only\u001b[38;5;241m=\u001b[39mnumeric_only),\n\u001b[0;32m   2535\u001b[0m         numeric_only\u001b[38;5;241m=\u001b[39mnumeric_only,\n\u001b[0;32m   2536\u001b[0m     )\n\u001b[0;32m   2537\u001b[0m     \u001b[38;5;28;01mreturn\u001b[39;00m result\u001b[38;5;241m.\u001b[39m__finalize__(\u001b[38;5;28mself\u001b[39m\u001b[38;5;241m.\u001b[39mobj, method\u001b[38;5;241m=\u001b[39m\u001b[38;5;124m\"\u001b[39m\u001b[38;5;124mgroupby\u001b[39m\u001b[38;5;124m\"\u001b[39m)\n",
      "File \u001b[1;32m~\\anaconda3\\Lib\\site-packages\\pandas\\core\\groupby\\groupby.py:1998\u001b[0m, in \u001b[0;36mGroupBy._cython_agg_general\u001b[1;34m(self, how, alt, numeric_only, min_count, **kwargs)\u001b[0m\n\u001b[0;32m   1995\u001b[0m     result \u001b[38;5;241m=\u001b[39m \u001b[38;5;28mself\u001b[39m\u001b[38;5;241m.\u001b[39m_agg_py_fallback(how, values, ndim\u001b[38;5;241m=\u001b[39mdata\u001b[38;5;241m.\u001b[39mndim, alt\u001b[38;5;241m=\u001b[39malt)\n\u001b[0;32m   1996\u001b[0m     \u001b[38;5;28;01mreturn\u001b[39;00m result\n\u001b[1;32m-> 1998\u001b[0m new_mgr \u001b[38;5;241m=\u001b[39m data\u001b[38;5;241m.\u001b[39mgrouped_reduce(array_func)\n\u001b[0;32m   1999\u001b[0m res \u001b[38;5;241m=\u001b[39m \u001b[38;5;28mself\u001b[39m\u001b[38;5;241m.\u001b[39m_wrap_agged_manager(new_mgr)\n\u001b[0;32m   2000\u001b[0m \u001b[38;5;28;01mif\u001b[39;00m how \u001b[38;5;129;01min\u001b[39;00m [\u001b[38;5;124m\"\u001b[39m\u001b[38;5;124midxmin\u001b[39m\u001b[38;5;124m\"\u001b[39m, \u001b[38;5;124m\"\u001b[39m\u001b[38;5;124midxmax\u001b[39m\u001b[38;5;124m\"\u001b[39m]:\n",
      "File \u001b[1;32m~\\anaconda3\\Lib\\site-packages\\pandas\\core\\internals\\managers.py:1469\u001b[0m, in \u001b[0;36mBlockManager.grouped_reduce\u001b[1;34m(self, func)\u001b[0m\n\u001b[0;32m   1465\u001b[0m \u001b[38;5;28;01mif\u001b[39;00m blk\u001b[38;5;241m.\u001b[39mis_object:\n\u001b[0;32m   1466\u001b[0m     \u001b[38;5;66;03m# split on object-dtype blocks bc some columns may raise\u001b[39;00m\n\u001b[0;32m   1467\u001b[0m     \u001b[38;5;66;03m#  while others do not.\u001b[39;00m\n\u001b[0;32m   1468\u001b[0m     \u001b[38;5;28;01mfor\u001b[39;00m sb \u001b[38;5;129;01min\u001b[39;00m blk\u001b[38;5;241m.\u001b[39m_split():\n\u001b[1;32m-> 1469\u001b[0m         applied \u001b[38;5;241m=\u001b[39m sb\u001b[38;5;241m.\u001b[39mapply(func)\n\u001b[0;32m   1470\u001b[0m         result_blocks \u001b[38;5;241m=\u001b[39m extend_blocks(applied, result_blocks)\n\u001b[0;32m   1471\u001b[0m \u001b[38;5;28;01melse\u001b[39;00m:\n",
      "File \u001b[1;32m~\\anaconda3\\Lib\\site-packages\\pandas\\core\\internals\\blocks.py:393\u001b[0m, in \u001b[0;36mBlock.apply\u001b[1;34m(self, func, **kwargs)\u001b[0m\n\u001b[0;32m    387\u001b[0m \u001b[38;5;129m@final\u001b[39m\n\u001b[0;32m    388\u001b[0m \u001b[38;5;28;01mdef\u001b[39;00m \u001b[38;5;21mapply\u001b[39m(\u001b[38;5;28mself\u001b[39m, func, \u001b[38;5;241m*\u001b[39m\u001b[38;5;241m*\u001b[39mkwargs) \u001b[38;5;241m-\u001b[39m\u001b[38;5;241m>\u001b[39m \u001b[38;5;28mlist\u001b[39m[Block]:\n\u001b[0;32m    389\u001b[0m \u001b[38;5;250m    \u001b[39m\u001b[38;5;124;03m\"\"\"\u001b[39;00m\n\u001b[0;32m    390\u001b[0m \u001b[38;5;124;03m    apply the function to my values; return a block if we are not\u001b[39;00m\n\u001b[0;32m    391\u001b[0m \u001b[38;5;124;03m    one\u001b[39;00m\n\u001b[0;32m    392\u001b[0m \u001b[38;5;124;03m    \"\"\"\u001b[39;00m\n\u001b[1;32m--> 393\u001b[0m     result \u001b[38;5;241m=\u001b[39m func(\u001b[38;5;28mself\u001b[39m\u001b[38;5;241m.\u001b[39mvalues, \u001b[38;5;241m*\u001b[39m\u001b[38;5;241m*\u001b[39mkwargs)\n\u001b[0;32m    395\u001b[0m     result \u001b[38;5;241m=\u001b[39m maybe_coerce_values(result)\n\u001b[0;32m    396\u001b[0m     \u001b[38;5;28;01mreturn\u001b[39;00m \u001b[38;5;28mself\u001b[39m\u001b[38;5;241m.\u001b[39m_split_op_result(result)\n",
      "File \u001b[1;32m~\\anaconda3\\Lib\\site-packages\\pandas\\core\\groupby\\groupby.py:1995\u001b[0m, in \u001b[0;36mGroupBy._cython_agg_general.<locals>.array_func\u001b[1;34m(values)\u001b[0m\n\u001b[0;32m   1992\u001b[0m     \u001b[38;5;28;01mreturn\u001b[39;00m result\n\u001b[0;32m   1994\u001b[0m \u001b[38;5;28;01massert\u001b[39;00m alt \u001b[38;5;129;01mis\u001b[39;00m \u001b[38;5;129;01mnot\u001b[39;00m \u001b[38;5;28;01mNone\u001b[39;00m\n\u001b[1;32m-> 1995\u001b[0m result \u001b[38;5;241m=\u001b[39m \u001b[38;5;28mself\u001b[39m\u001b[38;5;241m.\u001b[39m_agg_py_fallback(how, values, ndim\u001b[38;5;241m=\u001b[39mdata\u001b[38;5;241m.\u001b[39mndim, alt\u001b[38;5;241m=\u001b[39malt)\n\u001b[0;32m   1996\u001b[0m \u001b[38;5;28;01mreturn\u001b[39;00m result\n",
      "File \u001b[1;32m~\\anaconda3\\Lib\\site-packages\\pandas\\core\\groupby\\groupby.py:1946\u001b[0m, in \u001b[0;36mGroupBy._agg_py_fallback\u001b[1;34m(self, how, values, ndim, alt)\u001b[0m\n\u001b[0;32m   1944\u001b[0m     msg \u001b[38;5;241m=\u001b[39m \u001b[38;5;124mf\u001b[39m\u001b[38;5;124m\"\u001b[39m\u001b[38;5;124magg function failed [how->\u001b[39m\u001b[38;5;132;01m{\u001b[39;00mhow\u001b[38;5;132;01m}\u001b[39;00m\u001b[38;5;124m,dtype->\u001b[39m\u001b[38;5;132;01m{\u001b[39;00mser\u001b[38;5;241m.\u001b[39mdtype\u001b[38;5;132;01m}\u001b[39;00m\u001b[38;5;124m]\u001b[39m\u001b[38;5;124m\"\u001b[39m\n\u001b[0;32m   1945\u001b[0m     \u001b[38;5;66;03m# preserve the kind of exception that raised\u001b[39;00m\n\u001b[1;32m-> 1946\u001b[0m     \u001b[38;5;28;01mraise\u001b[39;00m \u001b[38;5;28mtype\u001b[39m(err)(msg) \u001b[38;5;28;01mfrom\u001b[39;00m \u001b[38;5;21;01merr\u001b[39;00m\n\u001b[0;32m   1948\u001b[0m \u001b[38;5;28;01mif\u001b[39;00m ser\u001b[38;5;241m.\u001b[39mdtype \u001b[38;5;241m==\u001b[39m \u001b[38;5;28mobject\u001b[39m:\n\u001b[0;32m   1949\u001b[0m     res_values \u001b[38;5;241m=\u001b[39m res_values\u001b[38;5;241m.\u001b[39mastype(\u001b[38;5;28mobject\u001b[39m, copy\u001b[38;5;241m=\u001b[39m\u001b[38;5;28;01mFalse\u001b[39;00m)\n",
      "\u001b[1;31mTypeError\u001b[0m: agg function failed [how->median,dtype->object]"
     ]
    }
   ],
   "source": [
    "yearly_trend()\n",
    "yearly_trend(\"West Bengal\", \"no2\")"
   ]
  },
  {
   "cell_type": "markdown",
   "id": "1b3aab70",
   "metadata": {
    "id": "1b3aab70"
   },
   "source": [
    "Plotting for SO2, we can see the yearly trend for sulphur dioxide levels in the country. Plotting for NO2 in West Bengal, we can see the yearly trend."
   ]
  },
  {
   "cell_type": "markdown",
   "id": "df880589",
   "metadata": {
    "id": "df880589"
   },
   "source": [
    "# Plotting a heatmap for a particular indicator"
   ]
  },
  {
   "cell_type": "code",
   "execution_count": null,
   "id": "43e0b880",
   "metadata": {
    "id": "43e0b880"
   },
   "outputs": [],
   "source": [
    "# defining a function to plot a heatmap for yearly median average for a given indicator (defaults to SO2)\n",
    "def indicator_by_state_and_year(indicator=\"so2\"):\n",
    "    plt.figure(figsize=(20, 20))\n",
    "    hmap = sns.heatmap(\n",
    "        data=aqi.pivot_table(values=indicator, index='state', columns='year', aggfunc='median', margins=True),\n",
    "               annot=True, linewidths=.5, cbar=True, square=True, cmap='inferno', cbar_kws={'label': \"Annual Average\"})\n",
    "\n",
    "    hmap.set_title(\"{} by state and year\".format(indicator))"
   ]
  },
  {
   "cell_type": "code",
   "execution_count": null,
   "id": "433d044f",
   "metadata": {
    "id": "433d044f",
    "outputId": "34a61f72-e78c-4af9-f02e-22e9d29fac43"
   },
   "outputs": [],
   "source": [
    "indicator_by_state_and_year('no2')"
   ]
  },
  {
   "cell_type": "markdown",
   "id": "d76c5743",
   "metadata": {
    "id": "d76c5743"
   },
   "source": [
    "# Plotting pollutant average by type"
   ]
  },
  {
   "cell_type": "code",
   "execution_count": null,
   "id": "bafeb21c",
   "metadata": {
    "id": "bafeb21c"
   },
   "outputs": [],
   "source": [
    "# defining a function to plot pollutant averages by type for a given indicator\n",
    "def type_avg(indicator=\"\"):\n",
    "    type_avg = aqi[VALUE_COLS + ['type', 'date']].groupby(\"type\").mean()\n",
    "    if indicator is not \"\":\n",
    "        t = type_avg[indicator].plot(kind='bar')\n",
    "        plt.xticks(rotation = 0)\n",
    "        plt.title(\"Pollutant average by type for {}\".format(indicator))\n",
    "    else:\n",
    "        t = type_avg.plot(kind='bar')\n",
    "        plt.xticks(rotation = 0)\n",
    "        plt.title(\"Pollutant average by type\")"
   ]
  },
  {
   "cell_type": "code",
   "execution_count": null,
   "id": "bac87245",
   "metadata": {
    "id": "bac87245",
    "outputId": "b703440c-2b3b-41f5-d4f6-bd93f7ba63ca"
   },
   "outputs": [],
   "source": [
    "type_avg('so2')"
   ]
  },
  {
   "cell_type": "markdown",
   "id": "63e8f1b5",
   "metadata": {
    "id": "63e8f1b5"
   },
   "source": [
    "# Plotting pollutant averages by locations/state"
   ]
  },
  {
   "cell_type": "code",
   "execution_count": null,
   "id": "1d99323a",
   "metadata": {
    "id": "1d99323a"
   },
   "outputs": [],
   "source": [
    "# defining a function to plot pollutant averages for a given indicator (defaults to SO2) by locations in a given state\n",
    "def location_avgs(state, indicator=\"so2\"):\n",
    "    locs = aqi[VALUE_COLS + ['state', 'location', 'date']].groupby(['state', 'location']).mean()\n",
    "    state_avgs = locs.loc[state].reset_index()\n",
    "    sns.barplot(x='location', y=indicator, data=state_avgs)\n",
    "    plt.title(\"Location-wise average for {} in {}\".format(indicator, state))\n",
    "    plt.xticks(rotation = 90)"
   ]
  },
  {
   "cell_type": "code",
   "execution_count": null,
   "id": "c3a7126e",
   "metadata": {
    "id": "c3a7126e",
    "outputId": "d1fc3d7e-dca1-4b9d-92db-dd356bb87b00"
   },
   "outputs": [],
   "source": [
    "location_avgs(\"Uttar Pradesh\", \"no2\")"
   ]
  },
  {
   "cell_type": "code",
   "execution_count": null,
   "id": "6c1e19d5",
   "metadata": {
    "id": "6c1e19d5"
   },
   "outputs": [],
   "source": []
  }
 ],
 "metadata": {
  "colab": {
   "provenance": []
  },
  "kernelspec": {
   "display_name": "Python 3 (ipykernel)",
   "language": "python",
   "name": "python3"
  },
  "language_info": {
   "codemirror_mode": {
    "name": "ipython",
    "version": 3
   },
   "file_extension": ".py",
   "mimetype": "text/x-python",
   "name": "python",
   "nbconvert_exporter": "python",
   "pygments_lexer": "ipython3",
   "version": "3.12.7"
  }
 },
 "nbformat": 4,
 "nbformat_minor": 5
}
