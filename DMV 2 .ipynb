{
 "cells": [
  {
   "cell_type": "code",
   "execution_count": 1,
   "id": "2b878634-9d5e-4aad-89ec-8cc5c0bb6472",
   "metadata": {},
   "outputs": [],
   "source": [
    "import requests \n",
    "import pandas as pd \n",
    "import datetime"
   ]
  },
  {
   "cell_type": "code",
   "execution_count": 3,
   "id": "55552d5b-a8e1-46e3-85d8-0b3ef5e4abc7",
   "metadata": {},
   "outputs": [],
   "source": [
    "# Set your OpenWeatherMap API key\n",
    "api_key = 'fb365aa6104829b44455572365ff3b4e' "
   ]
  },
  {
   "cell_type": "code",
   "execution_count": 5,
   "id": "58df4e0e-5df1-4ab9-beb3-49d76c448167",
   "metadata": {},
   "outputs": [],
   "source": [
    "# Set the location for which you want to retrieve weather data \n",
    "lat = 18.184135\n",
    "lon = 74.610764"
   ]
  },
  {
   "cell_type": "code",
   "execution_count": 7,
   "id": "af9f8380-1fb2-4e9c-9eda-6f2ab0b86f85",
   "metadata": {},
   "outputs": [],
   "source": [
    "# https://openweathermap.org/api/one-call-3\n",
    "# how\tHow to use api call \n",
    "# Construct the API URL\n",
    "api_url = f\"http://api.openweathermap.org/data/2.5/forecast?lat={lat}&lon={lon}&appid={api_key}\""
   ]
  },
  {
   "cell_type": "code",
   "execution_count": 9,
   "id": "bd0f1983-a94d-446b-a786-e1d0a133f704",
   "metadata": {},
   "outputs": [
    {
     "data": {
      "text/plain": [
       "'clear sky'"
      ]
     },
     "execution_count": 9,
     "metadata": {},
     "output_type": "execute_result"
    }
   ],
   "source": [
    "# Send a GET request to the API \n",
    "response = requests.get(api_url)\n",
    "weather_data = response.json()\n",
    "weather_data.keys()\n",
    "len(weather_data['list'])\n",
    "weather_data['list'][0]['weather'][0]['description']"
   ]
  },
  {
   "cell_type": "code",
   "execution_count": 11,
   "id": "3e44fb7f-3206-435e-b9db-ba7d7efa5051",
   "metadata": {},
   "outputs": [],
   "source": [
    "# Getting the data from dictionary and taking into one variable \n",
    "# Extract relevant weather attributes using list comprehension\n",
    "temperatures = [item['main']['temp'] for item in weather_data['list']] \n"
   ]
  },
  {
   "cell_type": "code",
   "execution_count": 13,
   "id": "9ee28bec-5015-44f9-90cf-044821b79066",
   "metadata": {},
   "outputs": [],
   "source": [
    "# It will extract all values (40) and putting into one variable\n",
    "timestamps = [pd.to_datetime(item['dt'], unit='s') for item in weather_data['list']]\n",
    "temperature = [item['main']['temp'] for item in weather_data['list']]\n",
    "humidity = [item['main']['humidity'] for item in weather_data['list']]\n",
    "wind_speed = [item['wind']['speed'] for item in weather_data['list']]\n",
    "weather_description = [item['weather'][0]['description'] for item in weather_data['list']]"
   ]
  },
  {
   "cell_type": "code",
   "execution_count": 15,
   "id": "996b7619-b303-40b7-a4bc-b2ee3a282794",
   "metadata": {},
   "outputs": [],
   "source": [
    "# Create a pandas DataFrame with the extracted weather data\n",
    "weather_df = pd.DataFrame({'Timestamp': timestamps, \n",
    "                           'Temperature': temperatures, \n",
    "                           'humidity': humidity, \n",
    "                           'wind_speed':wind_speed,\n",
    "                           'weather_description': weather_description})"
   ]
  },
  {
   "cell_type": "code",
   "execution_count": 17,
   "id": "b7087608-d95a-4891-b65b-324fcabd292a",
   "metadata": {},
   "outputs": [
    {
     "name": "stdout",
     "output_type": "stream",
     "text": [
      "Maximum Temperature - 304.53\n",
      "Minimum Temperature - 292.82\n"
     ]
    }
   ],
   "source": [
    "# Set the Timestamp column as the DataFrame's index\n",
    "weather_df.set_index('Timestamp', inplace=True)\n",
    "max_temp = weather_df['Temperature'].max()\n",
    "print(f\"Maximum Temperature - {max_temp}\")\n",
    "min_temp = weather_df['Temperature'].min()\n",
    "print(f\"Minimum Temperature - {min_temp}\")"
   ]
  },
  {
   "cell_type": "code",
   "execution_count": 19,
   "id": "672bd3b4-9d5b-4fbd-8540-3b34b271825e",
   "metadata": {},
   "outputs": [],
   "source": [
    "# Clean and preprocess the data # Handling missing values\n",
    "weather_df.fillna(0, inplace=True) # Replace missing values with 0 or appropriate value"
   ]
  },
  {
   "cell_type": "code",
   "execution_count": 21,
   "id": "a2256c5c-a155-44d4-9136-b5fcb2def0c4",
   "metadata": {},
   "outputs": [],
   "source": [
    "# Handling inconsistent format (if applicable)\n",
    "weather_df['Temperature'] = weather_df['Temperature'].apply(lambda x: x - 273.15 if isinstance(x, float)else x)"
   ]
  },
  {
   "cell_type": "code",
   "execution_count": null,
   "id": "0815b9d9-a685-4a50-ba9c-1e7e92544e69",
   "metadata": {},
   "outputs": [],
   "source": []
  }
 ],
 "metadata": {
  "kernelspec": {
   "display_name": "Python 3 (ipykernel)",
   "language": "python",
   "name": "python3"
  },
  "language_info": {
   "codemirror_mode": {
    "name": "ipython",
    "version": 3
   },
   "file_extension": ".py",
   "mimetype": "text/x-python",
   "name": "python",
   "nbconvert_exporter": "python",
   "pygments_lexer": "ipython3",
   "version": "3.12.7"
  }
 },
 "nbformat": 4,
 "nbformat_minor": 5
}
